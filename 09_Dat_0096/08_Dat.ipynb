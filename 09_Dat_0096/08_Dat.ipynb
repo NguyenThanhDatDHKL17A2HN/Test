{
 "cells": [
  {
   "cell_type": "code",
   "execution_count": 1,
   "metadata": {},
   "outputs": [],
   "source": [
    "import pandas as pd\n",
    "import numpy as np"
   ]
  },
  {
   "cell_type": "markdown",
   "metadata": {},
   "source": [
    "#### 1. Đọc dữ liệu từ file nhan_vien.csv vào DataFrame"
   ]
  },
  {
   "cell_type": "code",
   "execution_count": 2,
   "metadata": {},
   "outputs": [
    {
     "name": "stdout",
     "output_type": "stream",
     "text": [
      "Dữ liệu từ file nhan_vien.csv:\n",
      "   Ma_nv        Ten_nv       Phong  Luong_cb  G_t  Nm_ct\n",
      "0  NV001  Nguyễn Văn A     Kế toán   7000000  Nam      5\n",
      "1  NV002    Trần Thị B     Nhân sự   8000000   Nữ      3\n",
      "2  NV003    Phạm Văn C          IT   9000000  Nam      2\n",
      "3  NV004      Lê Thị D   Marketing   7500000   Nữ      6\n",
      "4  NV005      Vũ Văn E  Kinh doanh   8500000  Nam      4\n"
     ]
    }
   ],
   "source": [
    "df = pd.read_csv('D:\\\\09_Dat_0096\\\\Data\\\\nhan_vien.csv')\n",
    "print(\"Dữ liệu từ file nhan_vien.csv:\")\n",
    "print(df)"
   ]
  },
  {
   "cell_type": "markdown",
   "metadata": {},
   "source": [
    "#### 2. Hiển thị thông tin chung của dữ liệu"
   ]
  },
  {
   "cell_type": "code",
   "execution_count": 3,
   "metadata": {},
   "outputs": [
    {
     "name": "stdout",
     "output_type": "stream",
     "text": [
      "5 dòng dữ liệu đầu của dữ liệu:\n",
      "   Ma_nv        Ten_nv       Phong  Luong_cb  G_t  Nm_ct\n",
      "0  NV001  Nguyễn Văn A     Kế toán   7000000  Nam      5\n",
      "1  NV002    Trần Thị B     Nhân sự   8000000   Nữ      3\n",
      "2  NV003    Phạm Văn C          IT   9000000  Nam      2\n",
      "3  NV004      Lê Thị D   Marketing   7500000   Nữ      6\n",
      "4  NV005      Vũ Văn E  Kinh doanh   8500000  Nam      4\n"
     ]
    }
   ],
   "source": [
    "print(\"5 dòng dữ liệu đầu của dữ liệu:\")\n",
    "print(df.head())"
   ]
  },
  {
   "cell_type": "code",
   "execution_count": 4,
   "metadata": {},
   "outputs": [
    {
     "name": "stdout",
     "output_type": "stream",
     "text": [
      "5 dòng dữ liệu cuối của dữ liệu:\n",
      "   Ma_nv        Ten_nv       Phong  Luong_cb  G_t  Nm_ct\n",
      "0  NV001  Nguyễn Văn A     Kế toán   7000000  Nam      5\n",
      "1  NV002    Trần Thị B     Nhân sự   8000000   Nữ      3\n",
      "2  NV003    Phạm Văn C          IT   9000000  Nam      2\n",
      "3  NV004      Lê Thị D   Marketing   7500000   Nữ      6\n",
      "4  NV005      Vũ Văn E  Kinh doanh   8500000  Nam      4\n"
     ]
    }
   ],
   "source": [
    "print(\"5 dòng dữ liệu cuối của dữ liệu:\")\n",
    "print(df.tail())"
   ]
  },
  {
   "cell_type": "code",
   "execution_count": 5,
   "metadata": {},
   "outputs": [
    {
     "name": "stdout",
     "output_type": "stream",
     "text": [
      "\n",
      "Thông tin (info) của dữ liệu:\n",
      "<class 'pandas.core.frame.DataFrame'>\n",
      "RangeIndex: 5 entries, 0 to 4\n",
      "Data columns (total 6 columns):\n",
      " #   Column    Non-Null Count  Dtype \n",
      "---  ------    --------------  ----- \n",
      " 0   Ma_nv     5 non-null      object\n",
      " 1   Ten_nv    5 non-null      object\n",
      " 2   Phong     5 non-null      object\n",
      " 3   Luong_cb  5 non-null      int64 \n",
      " 4   G_t       5 non-null      object\n",
      " 5   Nm_ct     5 non-null      int64 \n",
      "dtypes: int64(2), object(4)\n",
      "memory usage: 372.0+ bytes\n",
      "None\n"
     ]
    }
   ],
   "source": [
    "print(\"\\nThông tin (info) của dữ liệu:\")       # Thông tin tổng quan\n",
    "print(df.info())"
   ]
  },
  {
   "cell_type": "code",
   "execution_count": 6,
   "metadata": {},
   "outputs": [
    {
     "name": "stdout",
     "output_type": "stream",
     "text": [
      "\n",
      "Thống kê (describe) của dữ liệu:\n",
      "           Luong_cb     Nm_ct\n",
      "count  5.000000e+00  5.000000\n",
      "mean   8.000000e+06  4.000000\n",
      "std    7.905694e+05  1.581139\n",
      "min    7.000000e+06  2.000000\n",
      "25%    7.500000e+06  3.000000\n",
      "50%    8.000000e+06  4.000000\n",
      "75%    8.500000e+06  5.000000\n",
      "max    9.000000e+06  6.000000\n"
     ]
    }
   ],
   "source": [
    "print(\"\\nThống kê (describe) của dữ liệu:\")       # Thống kê dữ liệu số\n",
    "print(df.describe()) "
   ]
  },
  {
   "cell_type": "markdown",
   "metadata": {},
   "source": [
    "#### 3. Kiểm tra xem có cột nào bị null không?"
   ]
  },
  {
   "cell_type": "code",
   "execution_count": 7,
   "metadata": {},
   "outputs": [
    {
     "name": "stdout",
     "output_type": "stream",
     "text": [
      "\n",
      "Kiểm tra dữ liệu null:\n",
      "Ma_nv       0\n",
      "Ten_nv      0\n",
      "Phong       0\n",
      "Luong_cb    0\n",
      "G_t         0\n",
      "Nm_ct       0\n",
      "dtype: int64\n"
     ]
    }
   ],
   "source": [
    "print(\"\\nKiểm tra dữ liệu null:\")\n",
    "print(df.isnull().sum())"
   ]
  },
  {
   "cell_type": "markdown",
   "metadata": {},
   "source": [
    "#### 4. Thay giá trị null bằng giá trị trung bình hoặc 0 tùy thuộc vào tính chất của cột"
   ]
  },
  {
   "cell_type": "code",
   "execution_count": 8,
   "metadata": {},
   "outputs": [
    {
     "name": "stdout",
     "output_type": "stream",
     "text": [
      "\n",
      "Thay giá trị null bằng giá trị phù hợp:\n",
      "   Ma_nv        Ten_nv       Phong  Luong_cb  G_t  Nm_ct\n",
      "0  NV001  Nguyễn Văn A     Kế toán   7000000  Nam      5\n",
      "1  NV002    Trần Thị B     Nhân sự   8000000   Nữ      3\n",
      "2  NV003    Phạm Văn C          IT   9000000  Nam      2\n",
      "3  NV004      Lê Thị D   Marketing   7500000   Nữ      6\n",
      "4  NV005      Vũ Văn E  Kinh doanh   8500000  Nam      4\n"
     ]
    }
   ],
   "source": [
    "print(\"\\nThay giá trị null bằng giá trị phù hợp:\")\n",
    "df['Luong_cb'] = df['Luong_cb'].fillna(df['Luong_cb'].mean())\n",
    "df['Nm_ct'] = df['Nm_ct'].fillna(0)  # Thay thế null bằng 0 cho số năm công tác\n",
    "print(df)"
   ]
  },
  {
   "cell_type": "markdown",
   "metadata": {},
   "source": [
    "#### 5. Hiển thị thông tin tổng quan để xác nhận không còn dữ liệu null"
   ]
  },
  {
   "cell_type": "code",
   "execution_count": 9,
   "metadata": {},
   "outputs": [
    {
     "name": "stdout",
     "output_type": "stream",
     "text": [
      "\n",
      "Thông tin sau khi xử lý Null:\n",
      "<class 'pandas.core.frame.DataFrame'>\n",
      "RangeIndex: 5 entries, 0 to 4\n",
      "Data columns (total 6 columns):\n",
      " #   Column    Non-Null Count  Dtype \n",
      "---  ------    --------------  ----- \n",
      " 0   Ma_nv     5 non-null      object\n",
      " 1   Ten_nv    5 non-null      object\n",
      " 2   Phong     5 non-null      object\n",
      " 3   Luong_cb  5 non-null      int64 \n",
      " 4   G_t       5 non-null      object\n",
      " 5   Nm_ct     5 non-null      int64 \n",
      "dtypes: int64(2), object(4)\n",
      "memory usage: 372.0+ bytes\n",
      "None\n"
     ]
    }
   ],
   "source": [
    "print(\"\\nThông tin sau khi xử lý Null:\")\n",
    "print(df.info())"
   ]
  },
  {
   "cell_type": "markdown",
   "metadata": {},
   "source": [
    "#### 6. Tính mức lương trung bình của nhân viên và lọc ra các nhân viên có lương trên trung bình"
   ]
  },
  {
   "cell_type": "code",
   "execution_count": 10,
   "metadata": {},
   "outputs": [
    {
     "name": "stdout",
     "output_type": "stream",
     "text": [
      "\n",
      "Lọc nhân viên có lương cao hơn mức trung bình:\n",
      "Mức lương trung bình: 8000000.0\n",
      "Nhân viên có lương cao hơn trung bình:\n",
      "   Ma_nv      Ten_nv       Phong  Luong_cb  G_t  Nm_ct\n",
      "2  NV003  Phạm Văn C          IT   9000000  Nam      2\n",
      "4  NV005    Vũ Văn E  Kinh doanh   8500000  Nam      4\n"
     ]
    }
   ],
   "source": [
    "print(\"\\nLọc nhân viên có lương cao hơn mức trung bình:\")\n",
    "luong_tb = df['Luong_cb'].mean()\n",
    "nv_luong_cao = df[df['Luong_cb'] > luong_tb]\n",
    "print(\"Mức lương trung bình:\", luong_tb)\n",
    "print(\"Nhân viên có lương cao hơn trung bình:\")\n",
    "print(nv_luong_cao)"
   ]
  },
  {
   "cell_type": "markdown",
   "metadata": {},
   "source": [
    "#### 7. Tạo MultiIndex cho DataFrame bằng cột Ma_nv và Nam_ct"
   ]
  },
  {
   "cell_type": "code",
   "execution_count": 11,
   "metadata": {},
   "outputs": [
    {
     "name": "stdout",
     "output_type": "stream",
     "text": [
      "\n",
      "DataFrame sau khi tạo MultiIndex:\n",
      "                   Ten_nv       Phong  Luong_cb  G_t\n",
      "Ma_nv Nm_ct                                         \n",
      "NV001 5      Nguyễn Văn A     Kế toán   7000000  Nam\n",
      "NV002 3        Trần Thị B     Nhân sự   8000000   Nữ\n",
      "NV003 2        Phạm Văn C          IT   9000000  Nam\n",
      "NV004 6          Lê Thị D   Marketing   7500000   Nữ\n",
      "NV005 4          Vũ Văn E  Kinh doanh   8500000  Nam\n"
     ]
    }
   ],
   "source": [
    "df.set_index(['Ma_nv', 'Nm_ct'], inplace=True)\n",
    "print(\"\\nDataFrame sau khi tạo MultiIndex:\")\n",
    "print(df)"
   ]
  },
  {
   "cell_type": "markdown",
   "metadata": {},
   "source": [
    "#### 8. Nhóm dữ liệu theo Phong ban và tính tổng lương cho mỗi nhóm"
   ]
  },
  {
   "cell_type": "code",
   "execution_count": 12,
   "metadata": {},
   "outputs": [
    {
     "name": "stdout",
     "output_type": "stream",
     "text": [
      "\n",
      "Tổng lương theo từng phòng ban:\n",
      "Phong\n",
      "IT            9000000\n",
      "Kinh doanh    8500000\n",
      "Kế toán       7000000\n",
      "Marketing     7500000\n",
      "Nhân sự       8000000\n",
      "Name: Luong_cb, dtype: int64\n"
     ]
    }
   ],
   "source": [
    "print(\"\\nTổng lương theo từng phòng ban:\")\n",
    "grouped = df.groupby('Phong')['Luong_cb'].sum()\n",
    "print(grouped)"
   ]
  },
  {
   "cell_type": "markdown",
   "metadata": {},
   "source": [
    "#### 9. Sắp xếp nhân viên theo mức lương từ thấp đến cao"
   ]
  },
  {
   "cell_type": "code",
   "execution_count": 13,
   "metadata": {},
   "outputs": [
    {
     "name": "stdout",
     "output_type": "stream",
     "text": [
      "\n",
      "Nhân viên sắp xếp theo lương:\n",
      "                   Ten_nv       Phong  Luong_cb  G_t\n",
      "Ma_nv Nm_ct                                         \n",
      "NV001 5      Nguyễn Văn A     Kế toán   7000000  Nam\n",
      "NV004 6          Lê Thị D   Marketing   7500000   Nữ\n",
      "NV002 3        Trần Thị B     Nhân sự   8000000   Nữ\n",
      "NV005 4          Vũ Văn E  Kinh doanh   8500000  Nam\n",
      "NV003 2        Phạm Văn C          IT   9000000  Nam\n"
     ]
    }
   ],
   "source": [
    "sorted_df = df.sort_values(by='Luong_cb', ascending=True)\n",
    "print(\"\\nNhân viên sắp xếp theo lương:\")\n",
    "print(sorted_df)"
   ]
  },
  {
   "cell_type": "markdown",
   "metadata": {},
   "source": [
    "#### 10. Tạo một mảng NumPy từ dữ liệu Luong_cb, tính tổng lương của công ty"
   ]
  },
  {
   "cell_type": "code",
   "execution_count": 14,
   "metadata": {},
   "outputs": [
    {
     "name": "stdout",
     "output_type": "stream",
     "text": [
      "\n",
      "10. Mảng NumPy từ Luong_cb và tổng lương công ty:\n",
      "Mảng NumPy: [7000000 8000000 9000000 7500000 8500000]\n",
      "Tổng lương công ty: 40000000\n"
     ]
    }
   ],
   "source": [
    "luong_arr = df['Luong_cb'].to_numpy()\n",
    "tong_luong = luong_arr.sum()\n",
    "print(\"\\n10. Mảng NumPy từ Luong_cb và tổng lương công ty:\")\n",
    "print(\"Mảng NumPy:\", luong_arr)\n",
    "print(\"Tổng lương công ty:\", tong_luong)"
   ]
  }
 ],
 "metadata": {
  "kernelspec": {
   "display_name": "Python 3",
   "language": "python",
   "name": "python3"
  },
  "language_info": {
   "codemirror_mode": {
    "name": "ipython",
    "version": 3
   },
   "file_extension": ".py",
   "mimetype": "text/x-python",
   "name": "python",
   "nbconvert_exporter": "python",
   "pygments_lexer": "ipython3",
   "version": "3.11.2"
  }
 },
 "nbformat": 4,
 "nbformat_minor": 2
}
