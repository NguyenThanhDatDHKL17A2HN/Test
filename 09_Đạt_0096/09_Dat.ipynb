{
 "cells": [
  {
   "cell_type": "code",
   "execution_count": 3,
   "metadata": {},
   "outputs": [],
   "source": [
    "import pandas as pd\n",
    "import numpy as np"
   ]
  },
  {
   "cell_type": "markdown",
   "metadata": {},
   "source": [
    "#### 1. Đọc dữ liệu từ file vào DataFrame"
   ]
  },
  {
   "cell_type": "code",
   "execution_count": 21,
   "metadata": {},
   "outputs": [
    {
     "data": {
      "text/html": [
       "<div>\n",
       "<style scoped>\n",
       "    .dataframe tbody tr th:only-of-type {\n",
       "        vertical-align: middle;\n",
       "    }\n",
       "\n",
       "    .dataframe tbody tr th {\n",
       "        vertical-align: top;\n",
       "    }\n",
       "\n",
       "    .dataframe thead th {\n",
       "        text-align: right;\n",
       "    }\n",
       "</style>\n",
       "<table border=\"1\" class=\"dataframe\">\n",
       "  <thead>\n",
       "    <tr style=\"text-align: right;\">\n",
       "      <th></th>\n",
       "      <th>ma_hh</th>\n",
       "      <th>ten_hh</th>\n",
       "      <th>sl_ton_kho</th>\n",
       "      <th>gia_nhap</th>\n",
       "      <th>gia_ban</th>\n",
       "    </tr>\n",
       "  </thead>\n",
       "  <tbody>\n",
       "    <tr>\n",
       "      <th>0</th>\n",
       "      <td>HH001</td>\n",
       "      <td>Bánh</td>\n",
       "      <td>1500</td>\n",
       "      <td>5000</td>\n",
       "      <td>7000</td>\n",
       "    </tr>\n",
       "    <tr>\n",
       "      <th>1</th>\n",
       "      <td>HH002</td>\n",
       "      <td>Sữa</td>\n",
       "      <td>1300</td>\n",
       "      <td>10000</td>\n",
       "      <td>15000</td>\n",
       "    </tr>\n",
       "    <tr>\n",
       "      <th>2</th>\n",
       "      <td>HH003</td>\n",
       "      <td>Đường</td>\n",
       "      <td>1250</td>\n",
       "      <td>15000</td>\n",
       "      <td>20000</td>\n",
       "    </tr>\n",
       "    <tr>\n",
       "      <th>3</th>\n",
       "      <td>HH004</td>\n",
       "      <td>Gạo</td>\n",
       "      <td>1200</td>\n",
       "      <td>20000</td>\n",
       "      <td>25000</td>\n",
       "    </tr>\n",
       "    <tr>\n",
       "      <th>4</th>\n",
       "      <td>HH005</td>\n",
       "      <td>Nước</td>\n",
       "      <td>180</td>\n",
       "      <td>7000</td>\n",
       "      <td>10000</td>\n",
       "    </tr>\n",
       "  </tbody>\n",
       "</table>\n",
       "</div>"
      ],
      "text/plain": [
       "   ma_hh ten_hh  sl_ton_kho  gia_nhap  gia_ban\n",
       "0  HH001   Bánh        1500      5000     7000\n",
       "1  HH002    Sữa        1300     10000    15000\n",
       "2  HH003  Đường        1250     15000    20000\n",
       "3  HH004    Gạo        1200     20000    25000\n",
       "4  HH005   Nước         180      7000    10000"
      ]
     },
     "execution_count": 21,
     "metadata": {},
     "output_type": "execute_result"
    }
   ],
   "source": [
    "df = pd.read_csv(\"D:\\\\09_Đạt_0096\\\\Data\\\\hang_hoa.csv\")\n",
    "df"
   ]
  },
  {
   "cell_type": "markdown",
   "metadata": {},
   "source": [
    "#### 2. Hiển thị thông tin chung của dữ liệu: head, tail, info, describe"
   ]
  },
  {
   "cell_type": "code",
   "execution_count": 22,
   "metadata": {},
   "outputs": [
    {
     "name": "stdout",
     "output_type": "stream",
     "text": [
      "5 dòng dữ liệu đầu của dữ liệu:\n",
      "   ma_hh ten_hh  sl_ton_kho  gia_nhap  gia_ban\n",
      "0  HH001   Bánh        1500      5000     7000\n",
      "1  HH002    Sữa        1300     10000    15000\n",
      "2  HH003  Đường        1250     15000    20000\n",
      "3  HH004    Gạo        1200     20000    25000\n",
      "4  HH005   Nước         180      7000    10000\n"
     ]
    }
   ],
   "source": [
    "print(\"5 dòng dữ liệu đầu của dữ liệu:\")\n",
    "print(df.head())"
   ]
  },
  {
   "cell_type": "code",
   "execution_count": 23,
   "metadata": {},
   "outputs": [
    {
     "name": "stdout",
     "output_type": "stream",
     "text": [
      "5 dòng dữ liệu cuối của dữ liệu:\n",
      "   ma_hh ten_hh  sl_ton_kho  gia_nhap  gia_ban\n",
      "0  HH001   Bánh        1500      5000     7000\n",
      "1  HH002    Sữa        1300     10000    15000\n",
      "2  HH003  Đường        1250     15000    20000\n",
      "3  HH004    Gạo        1200     20000    25000\n",
      "4  HH005   Nước         180      7000    10000\n"
     ]
    }
   ],
   "source": [
    "print(\"5 dòng dữ liệu cuối của dữ liệu:\")\n",
    "print(df.tail())"
   ]
  },
  {
   "cell_type": "code",
   "execution_count": 24,
   "metadata": {},
   "outputs": [
    {
     "name": "stdout",
     "output_type": "stream",
     "text": [
      "\n",
      "Thông tin (info) của dữ liệu:\n",
      "<class 'pandas.core.frame.DataFrame'>\n",
      "RangeIndex: 5 entries, 0 to 4\n",
      "Data columns (total 5 columns):\n",
      " #   Column      Non-Null Count  Dtype \n",
      "---  ------      --------------  ----- \n",
      " 0   ma_hh       5 non-null      object\n",
      " 1   ten_hh      5 non-null      object\n",
      " 2   sl_ton_kho  5 non-null      int64 \n",
      " 3   gia_nhap    5 non-null      int64 \n",
      " 4   gia_ban     5 non-null      int64 \n",
      "dtypes: int64(3), object(2)\n",
      "memory usage: 332.0+ bytes\n",
      "None\n"
     ]
    }
   ],
   "source": [
    "print(\"\\nThông tin (info) của dữ liệu:\")       # Thông tin tổng quan\n",
    "print(df.info())"
   ]
  },
  {
   "cell_type": "code",
   "execution_count": 25,
   "metadata": {},
   "outputs": [
    {
     "name": "stdout",
     "output_type": "stream",
     "text": [
      "\n",
      "Thống kê (describe) của dữ liệu:\n",
      "        sl_ton_kho      gia_nhap       gia_ban\n",
      "count     5.000000      5.000000      5.000000\n",
      "mean   1086.000000  11400.000000  15400.000000\n",
      "std     519.114631   6107.372594   7300.684899\n",
      "min     180.000000   5000.000000   7000.000000\n",
      "25%    1200.000000   7000.000000  10000.000000\n",
      "50%    1250.000000  10000.000000  15000.000000\n",
      "75%    1300.000000  15000.000000  20000.000000\n",
      "max    1500.000000  20000.000000  25000.000000\n"
     ]
    }
   ],
   "source": [
    "print(\"\\nThống kê (describe) của dữ liệu:\")       # Thống kê dữ liệu số\n",
    "print(df.describe())  "
   ]
  },
  {
   "cell_type": "markdown",
   "metadata": {},
   "source": [
    "#### 3. Kiểm tra xem có cột nào bị null không?"
   ]
  },
  {
   "cell_type": "code",
   "execution_count": 26,
   "metadata": {},
   "outputs": [
    {
     "name": "stdout",
     "output_type": "stream",
     "text": [
      "\n",
      "Kiểm tra dữ liệu null:\n",
      "ma_hh         0\n",
      "ten_hh        0\n",
      "sl_ton_kho    0\n",
      "gia_nhap      0\n",
      "gia_ban       0\n",
      "dtype: int64\n"
     ]
    }
   ],
   "source": [
    "print(\"\\nKiểm tra dữ liệu null:\")\n",
    "print(df.isnull().sum())                             # Tổng null theo từng cột"
   ]
  },
  {
   "cell_type": "markdown",
   "metadata": {},
   "source": [
    "#### 4. Thay giá trị ở cột bị null bằng giá trị trung bình của cột đó với dữ liệu kiểu số"
   ]
  },
  {
   "cell_type": "code",
   "execution_count": 27,
   "metadata": {},
   "outputs": [
    {
     "name": "stdout",
     "output_type": "stream",
     "text": [
      "\n",
      "Dữ liệu sau khi thay thế giá trị Null ở các cột kiểu số:\n",
      "   ma_hh ten_hh  sl_ton_kho  gia_nhap  gia_ban\n",
      "0  HH001   Bánh        1500      5000     7000\n",
      "1  HH002    Sữa        1300     10000    15000\n",
      "2  HH003  Đường        1250     15000    20000\n",
      "3  HH004    Gạo        1200     20000    25000\n",
      "4  HH005   Nước         180      7000    10000\n"
     ]
    }
   ],
   "source": [
    "df.fillna(df.mean(numeric_only=True), inplace=True) #numeric_only=True: Chỉ áp dụng tính toán trung bình cho các cột kiểu số (numerical). Các cột không phải kiểu số sẽ bị bỏ qua.\n",
    "print(\"\\nDữ liệu sau khi thay thế giá trị Null ở các cột kiểu số:\") #Hàm fillna() được dùng để thay thế các giá trị NaN trong DataFrame bằng giá trị được chỉ định.\n",
    "print(df)\n",
    "#Nếu inplace=False (mặc định), lệnh sẽ trả về một DataFrame mới với các giá trị được thay thế mà không ảnh hưởng đến df"
   ]
  },
  {
   "cell_type": "markdown",
   "metadata": {},
   "source": [
    "#### 5. Hiển thị thông tin tổng quan để xác nhận không còn dữ liệu Null"
   ]
  },
  {
   "cell_type": "code",
   "execution_count": 28,
   "metadata": {},
   "outputs": [
    {
     "name": "stdout",
     "output_type": "stream",
     "text": [
      "\n",
      "Thông tin sau khi xử lý Null:\n",
      "<class 'pandas.core.frame.DataFrame'>\n",
      "RangeIndex: 5 entries, 0 to 4\n",
      "Data columns (total 5 columns):\n",
      " #   Column      Non-Null Count  Dtype \n",
      "---  ------      --------------  ----- \n",
      " 0   ma_hh       5 non-null      object\n",
      " 1   ten_hh      5 non-null      object\n",
      " 2   sl_ton_kho  5 non-null      int64 \n",
      " 3   gia_nhap    5 non-null      int64 \n",
      " 4   gia_ban     5 non-null      int64 \n",
      "dtypes: int64(3), object(2)\n",
      "memory usage: 332.0+ bytes\n",
      "None\n"
     ]
    }
   ],
   "source": [
    "print(\"\\nThông tin sau khi xử lý Null:\")\n",
    "print(df.info())"
   ]
  },
  {
   "cell_type": "markdown",
   "metadata": {},
   "source": [
    "#### 6. Tính tổng giá trị tồn kho bằng cách nhân Giá nhập với Số lượng tồn kho cho từng hàng hóa"
   ]
  },
  {
   "cell_type": "code",
   "execution_count": 29,
   "metadata": {},
   "outputs": [
    {
     "name": "stdout",
     "output_type": "stream",
     "text": [
      "\n",
      "Tổng giá trị tồn kho của các mặt hàng:\n",
      "   ma_hh ten_hh  tong_gia_tri_ton_kho\n",
      "0  HH001   Bánh               7500000\n",
      "1  HH002    Sữa              13000000\n",
      "2  HH003  Đường              18750000\n",
      "3  HH004    Gạo              24000000\n",
      "4  HH005   Nước               1260000\n"
     ]
    }
   ],
   "source": [
    "df['tong_gia_tri_ton_kho'] = df['gia_nhap'] * df['sl_ton_kho'] #Tạo 1 cột mới trong df \n",
    "print(\"\\nTổng giá trị tồn kho của các mặt hàng:\")\n",
    "print(df[['ma_hh', 'ten_hh', 'tong_gia_tri_ton_kho']])"
   ]
  },
  {
   "cell_type": "markdown",
   "metadata": {},
   "source": [
    "#### 7. Tạo MultiIndex cho DataFrame bằng cách sử dụng ten_hh và ma_hh làm chỉ mục"
   ]
  },
  {
   "cell_type": "code",
   "execution_count": 30,
   "metadata": {},
   "outputs": [
    {
     "name": "stdout",
     "output_type": "stream",
     "text": [
      "\n",
      "DataFrame sau khi tạo MultiIndex:\n",
      "              sl_ton_kho  gia_nhap  gia_ban  tong_gia_tri_ton_kho\n",
      "ten_hh ma_hh                                                     \n",
      "Bánh   HH001        1500      5000     7000               7500000\n",
      "Sữa    HH002        1300     10000    15000              13000000\n",
      "Đường  HH003        1250     15000    20000              18750000\n",
      "Gạo    HH004        1200     20000    25000              24000000\n",
      "Nước   HH005         180      7000    10000               1260000\n"
     ]
    }
   ],
   "source": [
    "df.set_index(['ten_hh', 'ma_hh'], inplace=True) #Thực hiện thay đổi trực tiếp trên DataFrame df mà không cần gán lại kết quả vào biến mới.\n",
    "print(\"\\nDataFrame sau khi tạo MultiIndex:\")\n",
    "print(df.head())"
   ]
  },
  {
   "cell_type": "markdown",
   "metadata": {},
   "source": [
    "#### 8. Nhóm dữ liệu theo tên hàng hóa và tính trung bình (gia_nhap, gia_ban) cho từng loại"
   ]
  },
  {
   "cell_type": "code",
   "execution_count": 31,
   "metadata": {},
   "outputs": [
    {
     "name": "stdout",
     "output_type": "stream",
     "text": [
      "\n",
      "Giá nhập và giá bán trung bình theo loại hàng hóa:\n",
      "        gia_nhap  gia_ban\n",
      "ten_hh                   \n",
      "Bánh      5000.0   7000.0\n",
      "Gạo      20000.0  25000.0\n",
      "Nước      7000.0  10000.0\n",
      "Sữa      10000.0  15000.0\n",
      "Đường    15000.0  20000.0\n"
     ]
    }
   ],
   "source": [
    "grouped = df.groupby('ten_hh')[['gia_nhap', 'gia_ban']].mean()\n",
    "print(\"\\nGiá nhập và giá bán trung bình theo loại hàng hóa:\")\n",
    "print(grouped)"
   ]
  },
  {
   "cell_type": "markdown",
   "metadata": {},
   "source": [
    "#### 9. Lọc danh sách các hàng hóa có tổng giá trị tồn kho trên 10 triệu đồng"
   ]
  },
  {
   "cell_type": "code",
   "execution_count": 32,
   "metadata": {},
   "outputs": [
    {
     "name": "stdout",
     "output_type": "stream",
     "text": [
      "\n",
      "Danh sách hàng hóa có tổng giá trị tồn kho trên 10 triệu đồng:\n",
      "              sl_ton_kho  gia_nhap  gia_ban  tong_gia_tri_ton_kho\n",
      "ten_hh ma_hh                                                     \n",
      "Sữa    HH002        1300     10000    15000              13000000\n",
      "Đường  HH003        1250     15000    20000              18750000\n",
      "Gạo    HH004        1200     20000    25000              24000000\n"
     ]
    }
   ],
   "source": [
    "filtered = df[df['tong_gia_tri_ton_kho'] > 10_000_000]\n",
    "print(\"\\nDanh sách hàng hóa có tổng giá trị tồn kho trên 10 triệu đồng:\")\n",
    "print(filtered)"
   ]
  },
  {
   "cell_type": "markdown",
   "metadata": {},
   "source": [
    "#### 10. Tạo một mảng NumPy từ dữ liệu Số lượng tồn kho và tìm mặt hàng tồn nhiều nhất và ít nhất"
   ]
  },
  {
   "cell_type": "code",
   "execution_count": 33,
   "metadata": {},
   "outputs": [
    {
     "name": "stdout",
     "output_type": "stream",
     "text": [
      "\n",
      "Hàng hóa tồn nhiều nhất:\n",
      "              sl_ton_kho  gia_nhap  gia_ban  tong_gia_tri_ton_kho\n",
      "ten_hh ma_hh                                                     \n",
      "Bánh   HH001        1500      5000     7000               7500000\n",
      "\n",
      "Hàng hóa tồn ít nhất:\n",
      "              sl_ton_kho  gia_nhap  gia_ban  tong_gia_tri_ton_kho\n",
      "ten_hh ma_hh                                                     \n",
      "Nước   HH005         180      7000    10000               1260000\n"
     ]
    }
   ],
   "source": [
    "mang_sl_ton_kho = df['sl_ton_kho'].to_numpy()\n",
    "\n",
    "max_ton_kho = df[df['sl_ton_kho'] == df['sl_ton_kho'].max()]\n",
    "                                    #So sánh từng giá trị trong cột sl_ton_kho với giá trị lớn nhất.\n",
    "min_ton_kho = df[df['sl_ton_kho'] == df['sl_ton_kho'].min()]\n",
    "\n",
    "print(\"\\nHàng hóa tồn nhiều nhất:\")\n",
    "print(max_ton_kho)\n",
    "\n",
    "print(\"\\nHàng hóa tồn ít nhất:\")\n",
    "print(min_ton_kho)\n"
   ]
  }
 ],
 "metadata": {
  "kernelspec": {
   "display_name": "Python 3",
   "language": "python",
   "name": "python3"
  },
  "language_info": {
   "codemirror_mode": {
    "name": "ipython",
    "version": 3
   },
   "file_extension": ".py",
   "mimetype": "text/x-python",
   "name": "python",
   "nbconvert_exporter": "python",
   "pygments_lexer": "ipython3",
   "version": "3.11.2"
  }
 },
 "nbformat": 4,
 "nbformat_minor": 2
}
